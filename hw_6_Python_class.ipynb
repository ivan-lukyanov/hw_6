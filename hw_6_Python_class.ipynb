{
 "cells": [
  {
   "cell_type": "markdown",
   "metadata": {},
   "source": [
    "### Задание 1\n",
    "Напишите функцию, которая возвращает название валюты (поле ‘Name’) с максимальным значением курса с помощью сервиса  \n",
    "https://www.cbr-xml-daily.ru/daily_json.js"
   ]
  },
  {
   "cell_type": "code",
   "execution_count": 1,
   "metadata": {},
   "outputs": [],
   "source": [
    "# Подколючаю библиотеку requests что бы сделать: web запрос\n",
    "import requests"
   ]
  },
  {
   "cell_type": "code",
   "execution_count": 2,
   "metadata": {},
   "outputs": [],
   "source": [
    "# Делаю web запрос и помещаю данные в промежуточную переменнкю \n",
    "r = requests.get('https://www.cbr-xml-daily.ru/daily_json.js')"
   ]
  },
  {
   "cell_type": "code",
   "execution_count": 3,
   "metadata": {},
   "outputs": [],
   "source": [
    "# У билиотеки requests есть метод json, он выдает результат в соваря, я достаю значения ключа \"Valute\" (именно там содержаться нужные мне данные для решения задачи) \n",
    "currency_data = r.json()['Valute']"
   ]
  },
  {
   "cell_type": "code",
   "execution_count": 4,
   "metadata": {},
   "outputs": [],
   "source": [
    "# Создаю функци которая вычисляет максимальное значение курса валюты и возвращает название валюты из поля \"Name\"\n",
    "def currency_maximum_rate():\n",
    "# Создаю пустой словарь что бы туда поместить лишь нужные для результата данные (как бы очищаю полученные данные, упрощаю работу с данными)\n",
    "    value_currency = {}\n",
    "# Создаю цикл, пробегаюсь лишь по данным полученного словаря после web запроса\n",
    "    for data in currency_data.values():\n",
    "# добавлю в ранее созданный пустой словарь, только нужные данные: Ключ - \"Название валюты\" и Значение ключа - \"Значение валюты\"\n",
    "        value_currency [data['Name']] = data['Value']\n",
    "# Создаю цикл, пробегаюсь по значениям словаря )в котором только Название и Значение курса валюты\n",
    "    for name, value in value_currency.items():\n",
    "# Создаю условную конструкцию, в которой сверяю каждое значение курса, с максимальныим значением курса всех всех валют\n",
    "        if value == max(value_currency.values()):\n",
    "# Как только проверка находит в данных значение которое по условию равно максимальному значению, прерываю функцию, и возвращаю ключ этого значения, который отвечает за название валюты\n",
    "            return name"
   ]
  },
  {
   "cell_type": "code",
   "execution_count": 5,
   "metadata": {},
   "outputs": [
    {
     "data": {
      "text/plain": [
       "'СДР (специальные права заимствования)'"
      ]
     },
     "execution_count": 5,
     "metadata": {},
     "output_type": "execute_result"
    }
   ],
   "source": [
    "currency_maximum_rate()"
   ]
  },
  {
   "cell_type": "code",
   "execution_count": null,
   "metadata": {},
   "outputs": [],
   "source": []
  },
  {
   "cell_type": "code",
   "execution_count": null,
   "metadata": {},
   "outputs": [],
   "source": []
  },
  {
   "cell_type": "code",
   "execution_count": null,
   "metadata": {},
   "outputs": [],
   "source": []
  },
  {
   "cell_type": "markdown",
   "metadata": {},
   "source": [
    "### Задание 2  \n",
    "Добавьте в класс Rate параметр diff (со значениями True или False), который в случае значения True в методах курсов валют (eur, usd итд) будет возвращать не курс валюты, а изменение по сравнению в прошлым значением.  \n",
    "\n",
    "\n",
    "Считайте, self.diff будет принимать значение True только при возврате значения курса. При отображении всей информации о валюте он не используется."
   ]
  },
  {
   "cell_type": "code",
   "execution_count": 6,
   "metadata": {},
   "outputs": [],
   "source": [
    "import requests"
   ]
  },
  {
   "cell_type": "code",
   "execution_count": 7,
   "metadata": {},
   "outputs": [],
   "source": [
    "class Rate:\n",
    "# Добавляю в класс Rate параметр diff со сзначение по умолчанию False (т.е разница не считается, если об этом явно не сообщить введя значение True)\n",
    "    def __init__(self, format_='value', diff = False):\n",
    "        self.format = format_\n",
    "# подключаю в глобальную переменную diff параметр diff\n",
    "        self.diff = diff\n",
    "    \n",
    "    def exchange_rates(self):\n",
    "        self.r = requests.get('https://www.cbr-xml-daily.ru/daily_json.js')\n",
    "        return self.r.json()['Valute']\n",
    "    \n",
    "    def make_format(self, currency):\n",
    "        response = self.exchange_rates()\n",
    "        \n",
    "        if currency in response:\n",
    "            if self.format == 'full':\n",
    "                return response[currency]\n",
    "\n",
    "# Создаю дополниетльное условие при котором срабатывает расчет значения разници между значением на сейчас и прошлым значениями\n",
    "            if self.format == 'value' and self.diff == True:\n",
    "# Создаю расчет результата возвращаемого методом make_format, результат округляю до сотых (общепринятой формат восприятия изменения в курсах)\n",
    "                return round(response[currency]['Value'] - response[currency]['Previous'], 2)\n",
    "            \n",
    "            if self.format == 'value' and self.diff == False:\n",
    "                return response[currency]['Value']\n",
    "            \n",
    "        return 'Error'\n",
    "    \n",
    "    def eur(self):\n",
    "        return self.make_format('EUR')\n",
    "    \n",
    "    def usd(self):\n",
    "        return self.make_format('USD')\n",
    "    \n",
    "    def brl(self):\n",
    "        return self.make_format('BRL')"
   ]
  },
  {
   "cell_type": "code",
   "execution_count": 8,
   "metadata": {},
   "outputs": [],
   "source": [
    "r = Rate(format_= 'value', diff = True)"
   ]
  },
  {
   "cell_type": "code",
   "execution_count": 9,
   "metadata": {},
   "outputs": [
    {
     "data": {
      "text/plain": [
       "-0.1"
      ]
     },
     "execution_count": 9,
     "metadata": {},
     "output_type": "execute_result"
    }
   ],
   "source": [
    "r.usd()"
   ]
  },
  {
   "cell_type": "code",
   "execution_count": null,
   "metadata": {},
   "outputs": [],
   "source": []
  },
  {
   "cell_type": "code",
   "execution_count": null,
   "metadata": {},
   "outputs": [],
   "source": []
  },
  {
   "cell_type": "code",
   "execution_count": null,
   "metadata": {},
   "outputs": [],
   "source": []
  },
  {
   "cell_type": "markdown",
   "metadata": {},
   "source": [
    "### Задание 3\n",
    "Напишите класс Designer, который учитывает количество международных премий. Подсказки в коде занятия в разделе “Домашнее задание задача 3”.\n",
    "\n",
    "#### Комментарий по классу Designer такой:  \n",
    "- Напишите класс Designer, который учитывает количество международных премий для дизайнеров (из презентации: “Повышение на 1 грейд за каждые 7 баллов. Получение международной премии – это +2 балла”).  \n",
    "- Считайте, что при выходе на работу сотрудник уже имеет две премии и их количество не меняется со стажем (конечно если хотите это можно вручную менять).\n",
    "\n",
    "Класс Designer пишется по аналогии с классом Developer из материалов занятия.  \n",
    "Комментарий про его условия Вика написала выше: “Повышение на 1 грейд за каждые 7 баллов. Получение международной премии – это +2 балла”"
   ]
  },
  {
   "cell_type": "code",
   "execution_count": 10,
   "metadata": {},
   "outputs": [],
   "source": [
    "# создаю родительский класс сотрудник в котором реализованы базовые общие методы для любого сотрудника любого отдела \n",
    "class Employee:\n",
    "# создаем глобальные переменные с помощью параметров класса и переменной self, \n",
    "# автоматически вызываем метод за счет спец метода __init__  который инициализирует глобальные переменные, в которые мы помещаем входные параметры класса\n",
    "    def __init__(self, name, seniority):\n",
    "        self.name = name\n",
    "        self.seniority = seniority\n",
    "        \n",
    "        self.grade = 1\n",
    "# создаем метод который вызывается когда сотрудника пора повысить, когда достаточно балов    \n",
    "    def grade_up(self):\n",
    "        \"\"\"Повышает уровень сотрудника\"\"\"\n",
    "        self.grade += 1\n",
    "# создаем метод который публикует результаты, выдает на консоль имя и текущий грейд после увеличения балов\n",
    "    def publish_grade(self):\n",
    "        \"\"\"Публикация результатов аккредитации сотрудников\"\"\"\n",
    "        print(f'Имя сотрудника: {self.name}, сейчас {self.grade}-й грейд')\n",
    "# создаем, который в этом классе ни чего не делает, а предполагает свое наличие, \n",
    "# он расчитан на то, что расчет который он будет реализовывать создадут в классе наследники исходя из уникальных  условий повышения в отделе\n",
    "# он просто пропускается за счет оператора pass\n",
    "    def check_if_it_is_time_for_upgrade(self):\n",
    "        pass"
   ]
  },
  {
   "cell_type": "code",
   "execution_count": 11,
   "metadata": {},
   "outputs": [],
   "source": [
    "# создаем класс наследник Дизайнер, который наследует все базовые методы родительского класс Employee + довляет свои\n",
    "class Designer(Employee):\n",
    "# пишу конструкцию с функцией super() которая автоматически вызывает метод __init__ у родительского класса\n",
    "    def __init__(self, name, seniority):\n",
    "        super().__init__(name, seniority)\n",
    "# пишу метод который необходимо было написать для расчета поднятия грейда сотрудника конкретного отдела   \n",
    "    def check_if_it_is_time_for_upgrade(self):\n",
    "# по условиям задачи прибаляем по 2 бала за премию\n",
    "        self.seniority += 2\n",
    "# повышение грейда происходит за каждые 7 балов\n",
    "# создаю проверку, если деление нацело = 0, значит 7 балов набрано -> повышаем грейд -> вызываем метод который прибавляет 1 грейд\n",
    "        if self.seniority %7 == 0:\n",
    "            self.grade_up()\n",
    "# вызываем метод родительского класса публикации результата\n",
    "        return self.publish_grade()"
   ]
  },
  {
   "cell_type": "code",
   "execution_count": 12,
   "metadata": {},
   "outputs": [],
   "source": [
    "# создаем объект дочернего класс Дизайнер:\n",
    "# прописываем требуемые параметры которые требуются на входе\n",
    "pasha = Designer(name ='Pasha', seniority = 4)"
   ]
  },
  {
   "cell_type": "code",
   "execution_count": 13,
   "metadata": {},
   "outputs": [
    {
     "name": "stdout",
     "output_type": "stream",
     "text": [
      "Имя сотрудника: Pasha, сейчас 1-й грейд\n",
      "- сумма балов на данный момент: 6\n",
      "\n",
      "Имя сотрудника: Pasha, сейчас 1-й грейд\n",
      "- сумма балов на данный момент: 8\n",
      "\n",
      "Имя сотрудника: Pasha, сейчас 1-й грейд\n",
      "- сумма балов на данный момент: 10\n",
      "\n",
      "Имя сотрудника: Pasha, сейчас 1-й грейд\n",
      "- сумма балов на данный момент: 12\n",
      "\n",
      "Имя сотрудника: Pasha, сейчас 2-й грейд\n",
      "- сумма балов на данный момент: 14\n",
      "\n",
      "Имя сотрудника: Pasha, сейчас 2-й грейд\n",
      "- сумма балов на данный момент: 16\n",
      "\n",
      "Имя сотрудника: Pasha, сейчас 2-й грейд\n",
      "- сумма балов на данный момент: 18\n",
      "\n",
      "Имя сотрудника: Pasha, сейчас 2-й грейд\n",
      "- сумма балов на данный момент: 20\n",
      "\n",
      "Имя сотрудника: Pasha, сейчас 2-й грейд\n",
      "- сумма балов на данный момент: 22\n",
      "\n",
      "Имя сотрудника: Pasha, сейчас 2-й грейд\n",
      "- сумма балов на данный момент: 24\n",
      "\n",
      "Имя сотрудника: Pasha, сейчас 2-й грейд\n",
      "- сумма балов на данный момент: 26\n",
      "\n",
      "Имя сотрудника: Pasha, сейчас 3-й грейд\n",
      "- сумма балов на данный момент: 28\n",
      "\n"
     ]
    }
   ],
   "source": [
    "# создаю проверочный цикл который за счет функции range() \n",
    "# она делает желаемое колво итераций по вызову метода повышения у объекта: pasha дочернего класса: Дизайнер\n",
    "for i in range(12):\n",
    "    pasha.check_if_it_is_time_for_upgrade()\n",
    "    print(f'- сумма балов на данный момент: {pasha.seniority}\\n')"
   ]
  },
  {
   "cell_type": "code",
   "execution_count": null,
   "metadata": {},
   "outputs": [],
   "source": []
  }
 ],
 "metadata": {
  "kernelspec": {
   "display_name": "Python 3",
   "language": "python",
   "name": "python3"
  },
  "language_info": {
   "codemirror_mode": {
    "name": "ipython",
    "version": 3
   },
   "file_extension": ".py",
   "mimetype": "text/x-python",
   "name": "python",
   "nbconvert_exporter": "python",
   "pygments_lexer": "ipython3",
   "version": "3.8.5"
  }
 },
 "nbformat": 4,
 "nbformat_minor": 4
}
